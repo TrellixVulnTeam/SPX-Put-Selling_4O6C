{
 "cells": [
  {
   "cell_type": "code",
   "execution_count": 4,
   "metadata": {},
   "outputs": [
    {
     "name": "stderr",
     "output_type": "stream",
     "text": [
      " * Running on http://127.0.0.1:8050/ (Press CTRL+C to quit)\n",
      "127.0.0.1 - - [14/Feb/2018 22:48:36] \"GET / HTTP/1.1\" 200 -\n",
      "127.0.0.1 - - [14/Feb/2018 22:48:38] \"GET /_dash-layout HTTP/1.1\" 200 -\n",
      "127.0.0.1 - - [14/Feb/2018 22:48:38] \"GET /_dash-dependencies HTTP/1.1\" 200 -\n",
      "127.0.0.1 - - [14/Feb/2018 22:48:38] \"GET /favicon.ico HTTP/1.1\" 200 -\n",
      "127.0.0.1 - - [14/Feb/2018 22:48:39] \"POST /_dash-update-component HTTP/1.1\" 200 -\n",
      "127.0.0.1 - - [14/Feb/2018 22:48:45] \"POST /_dash-update-component HTTP/1.1\" 200 -\n",
      "127.0.0.1 - - [14/Feb/2018 22:48:55] \"POST /_dash-update-component HTTP/1.1\" 200 -\n",
      "127.0.0.1 - - [14/Feb/2018 22:49:06] \"GET / HTTP/1.1\" 200 -\n",
      "127.0.0.1 - - [14/Feb/2018 22:49:07] \"GET /_dash-layout HTTP/1.1\" 200 -\n",
      "127.0.0.1 - - [14/Feb/2018 22:49:07] \"GET /_dash-dependencies HTTP/1.1\" 200 -\n",
      "127.0.0.1 - - [14/Feb/2018 22:49:07] \"GET /favicon.ico HTTP/1.1\" 200 -\n",
      "127.0.0.1 - - [14/Feb/2018 22:49:08] \"POST /_dash-update-component HTTP/1.1\" 200 -\n"
     ]
    }
   ],
   "source": [
    "import dash\n",
    "from dash.dependencies import Input, Output\n",
    "import dash_core_components as dcc\n",
    "import dash_html_components as html\n",
    "from pandas_datareader import data as web\n",
    "from datetime import datetime as dt\n",
    "\n",
    "app = dash.Dash()\n",
    "\n",
    "app.layout = html.Div([\n",
    "    html.H1('Stock Tickers'),\n",
    "    dcc.Dropdown(\n",
    "        id='my-dropdown',\n",
    "        options=[\n",
    "            {'label': 'Coke', 'value': 'COKE'},\n",
    "            {'label': 'Tesla', 'value': 'TSLA'},\n",
    "            {'label': 'Apple', 'value': 'AAPL'}\n",
    "        ],\n",
    "        value='COKE'\n",
    "    ),\n",
    "    dcc.Graph(id='my-graph')\n",
    "])\n",
    "\n",
    "@app.callback(Output('my-graph', 'figure'), [Input('my-dropdown', 'value')])\n",
    "def update_graph(selected_dropdown_value):\n",
    "    df = web.DataReader(\n",
    "        selected_dropdown_value, data_source='yahoo',\n",
    "        start=dt(2017, 1, 1), end=dt.now())\n",
    "    return {\n",
    "        'data': [{\n",
    "            'x': df.index,\n",
    "            'y': df.Close\n",
    "        }]\n",
    "    }\n",
    "\n",
    "if __name__ == '__main__':\n",
    "    app.run_server()"
   ]
  },
  {
   "cell_type": "code",
   "execution_count": null,
   "metadata": {},
   "outputs": [],
   "source": [
    "import plotly.plotly as py\n",
    "import plotly\n",
    "import numpy as np\n",
    "plotly.tools.set_credentials_file(username='aspiringfastlaner', api_key='uHVnpfTKtdS8cvzC2IhY')\n",
    "\n",
    "data = [dict(\n",
    "        visible = False,\n",
    "        line=dict(color='00CED1', width=6),\n",
    "        name = '𝜈 = '+str(step),\n",
    "        x = np.arange(0,10,0.01),\n",
    "        y = np.sin(step*np.arange(0,10,0.01))) for step in np.arange(0,5,0.1)]\n",
    "data[10]['visible'] = True\n",
    "\n",
    "steps = []\n",
    "for i in range(len(data)):\n",
    "    step = dict(\n",
    "        method = 'restyle',\n",
    "        args = ['visible', [False] * len(data)],\n",
    "    )\n",
    "    step['args'][1][i] = True # Toggle i'th trace to \"visible\"\n",
    "    steps.append(step)\n",
    "\n",
    "sliders = [dict(\n",
    "    active = 10,\n",
    "    currentvalue = {\"prefix\": \"Frequency: \"},\n",
    "    pad = {\"t\": 50},\n",
    "    steps = steps\n",
    ")]\n",
    "\n",
    "layout = dict(sliders=sliders)\n",
    "fig = dict(data=data, layout=layout)\n",
    "\n",
    "py.iplot(fig, filename='Sine Wave Slider')"
   ]
  },
  {
   "cell_type": "code",
   "execution_count": null,
   "metadata": {
    "collapsed": true
   },
   "outputs": [],
   "source": []
  }
 ],
 "metadata": {
  "kernelspec": {
   "display_name": "Python 3",
   "language": "python",
   "name": "python3"
  },
  "language_info": {
   "codemirror_mode": {
    "name": "ipython",
    "version": 3
   },
   "file_extension": ".py",
   "mimetype": "text/x-python",
   "name": "python",
   "nbconvert_exporter": "python",
   "pygments_lexer": "ipython3",
   "version": "3.6.1"
  }
 },
 "nbformat": 4,
 "nbformat_minor": 2
}
