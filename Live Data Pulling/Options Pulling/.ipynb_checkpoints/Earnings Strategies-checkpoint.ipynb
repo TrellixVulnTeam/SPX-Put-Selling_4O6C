{
 "cells": [
  {
   "cell_type": "code",
   "execution_count": 8,
   "metadata": {},
   "outputs": [
    {
     "data": {
      "text/plain": [
       "\"\\nCalculate the Black-Scholes implied volatility.\\n\\nParameters:\\t\\nprice (float) – the Black-Scholes option price\\nS (float) – underlying asset price\\nK (float) – strike price\\nt (float) – time to expiration in years\\nr (float) – risk-free interest rate\\nflag (str) – ‘c’ or ‘p’ for call or put.\\n>>> S = 100\\n>>> K = 100\\n>>> sigma = .2\\n>>> r = .01\\n>>> flag = 'c'\\n>>> t = .5\\n>>> price = black_scholes(flag, S, K, t, r, sigma)\\n>>> iv = implied_volatility(price, S, K, t, r, flag)\\n\""
      ]
     },
     "execution_count": 8,
     "metadata": {},
     "output_type": "execute_result"
    }
   ],
   "source": [
    "# Note to import from .py files, must follow structure\n",
    "# from <.py filename excluding '.py'> import <class name>\n",
    "# Optionslam creds: aspringfastlaner Options2018\n",
    "\n",
    "# Importing necessary models\n",
    "import smtplib\n",
    "import pandas as pd\n",
    "import numpy as np\n",
    "import datetime as dt\n",
    "import pandas.stats.moments as st\n",
    "from helpers import *\n",
    "import time\n",
    "\n",
    "'''\n",
    "Calculate the Black-Scholes implied volatility.\n",
    "\n",
    "Parameters:\t\n",
    "price (float) – the Black-Scholes option price\n",
    "S (float) – underlying asset price\n",
    "K (float) – strike price\n",
    "t (float) – time to expiration in years\n",
    "r (float) – risk-free interest rate\n",
    "flag (str) – ‘c’ or ‘p’ for call or put.\n",
    ">>> S = 100\n",
    ">>> K = 100\n",
    ">>> sigma = .2\n",
    ">>> r = .01\n",
    ">>> flag = 'c'\n",
    ">>> t = .5\n",
    ">>> price = black_scholes(flag, S, K, t, r, sigma)\n",
    ">>> iv = implied_volatility(price, S, K, t, r, flag)\n",
    "'''\n",
    "\n",
    "# Alpha Vantage API Key\n",
    "# 5HZEUI5AFJB06BUK\n",
    "\n",
    "# ts = TimeSeries(key='5HZEUI5AFJB06BUK', output_format='pandas')\n",
    "# data, meta_data = ts.get_intraday(symbol='MSFT',interval='1min', outputsize='full')\n",
    "# data['close'].plot()\n",
    "# plt.title('Intraday Times Series for the MSFT stock (1 min)')\n",
    "# For intraday\n",
    "# https://www.alphavantage.co/query?function=TIME_SERIES_INTRADAY&symbol=MSFT&interval=1min&apikey=d5HZEUI5AFJB06BUK&datatype=csv\n",
    "\n",
    "# For daily\n",
    "# https://www.alphavantage.co/query?function=TIME_SERIES_DAILY&symbol=MSFT&apikey=5HZEUI5AFJB06BUK&datatype=csv"
   ]
  },
  {
   "cell_type": "code",
   "execution_count": null,
   "metadata": {
    "collapsed": true
   },
   "outputs": [],
   "source": []
  },
  {
   "cell_type": "code",
   "execution_count": 9,
   "metadata": {},
   "outputs": [
    {
     "name": "stdout",
     "output_type": "stream",
     "text": [
      "No Table\n",
      "No Table\n",
      "--- 643.8708038330078 seconds ---\n"
     ]
    }
   ],
   "source": [
    "start_time = time.time()\n",
    "\n",
    "earnings_lst = []\n",
    "starting_date = dt.datetime(2018,8,2)\n",
    "for date in [starting_date + dt.timedelta(i) for i in range(2)]:\n",
    "    curr_earning = yahoo_earnings(date)\n",
    "    curr_earning['Earnings Date'] = date\n",
    "    earnings_lst.append(curr_earning)\n",
    "earnings = pd.concat(earnings_lst,axis = 0)\n",
    "tick_lst = earnings.Tickers.tolist()\n",
    "vols = current_volatility(tick_lst, roll = 22)\n",
    "earnings.index = earnings.Tickers\n",
    "earnings_df = earnings.drop_duplicates().join(vols, how='right').drop_duplicates()\n",
    "earnings_df['Lower Bound'] = earnings_df['close']*(1 - earnings_df['Implied Move Weekly']/100)\n",
    "earnings_df['Upper Bound'] = earnings_df['close']*(1 + earnings_df['Implied Move Weekly']/100)\n",
    "print(\"--- %s seconds ---\" % (time.time() - start_time))\n",
    "earnings_df.index = earnings_df.Tickers\n",
    "#earnings_df.sort_values('Earnings Date')\n",
    "\n",
    "#Display Portion\n",
    "names = earnings_df[((earnings_df['Call Times'] == 'After Market Close') & \n",
    "                     (earnings_df['Earnings Date'] == starting_date)) |\n",
    "                    ((earnings_df['Call Times'] == 'Before Market Open') & \n",
    "                     (earnings_df['Earnings Date'] == starting_date + dt.timedelta(1)))].sort_values('Earnings Date')"
   ]
  },
  {
   "cell_type": "code",
   "execution_count": 10,
   "metadata": {
    "scrolled": true
   },
   "outputs": [
    {
     "data": {
      "text/html": [
       "<div>\n",
       "<style>\n",
       "    .dataframe thead tr:only-child th {\n",
       "        text-align: right;\n",
       "    }\n",
       "\n",
       "    .dataframe thead th {\n",
       "        text-align: left;\n",
       "    }\n",
       "\n",
       "    .dataframe tbody tr th {\n",
       "        vertical-align: top;\n",
       "    }\n",
       "</style>\n",
       "<table border=\"1\" class=\"dataframe\">\n",
       "  <thead>\n",
       "    <tr style=\"text-align: right;\">\n",
       "      <th></th>\n",
       "      <th>Call Times</th>\n",
       "      <th>Current 7 Day Implied</th>\n",
       "      <th>EPS</th>\n",
       "      <th>Implied Move Weekly</th>\n",
       "      <th>Tickers</th>\n",
       "      <th>Earnings Date</th>\n",
       "      <th>daily_ann</th>\n",
       "      <th>intra_ann</th>\n",
       "      <th>ovrnt_ann</th>\n",
       "      <th>close</th>\n",
       "      <th>daily_dollar_vol</th>\n",
       "      <th>Lower Bound</th>\n",
       "      <th>Upper Bound</th>\n",
       "    </tr>\n",
       "    <tr>\n",
       "      <th>Tickers</th>\n",
       "      <th></th>\n",
       "      <th></th>\n",
       "      <th></th>\n",
       "      <th></th>\n",
       "      <th></th>\n",
       "      <th></th>\n",
       "      <th></th>\n",
       "      <th></th>\n",
       "      <th></th>\n",
       "      <th></th>\n",
       "      <th></th>\n",
       "      <th></th>\n",
       "      <th></th>\n",
       "    </tr>\n",
       "  </thead>\n",
       "  <tbody>\n",
       "    <tr>\n",
       "      <th>EOG</th>\n",
       "      <td>After Market Close</td>\n",
       "      <td>3.85</td>\n",
       "      <td>1.23</td>\n",
       "      <td>3.49</td>\n",
       "      <td>EOG</td>\n",
       "      <td>2018-08-02</td>\n",
       "      <td>0.197742</td>\n",
       "      <td>0.301706</td>\n",
       "      <td>0.128101</td>\n",
       "      <td>125.57</td>\n",
       "      <td>1.606149</td>\n",
       "      <td>121.187607</td>\n",
       "      <td>129.952393</td>\n",
       "    </tr>\n",
       "    <tr>\n",
       "      <th>ANET</th>\n",
       "      <td>After Market Close</td>\n",
       "      <td>9.52</td>\n",
       "      <td>1.7</td>\n",
       "      <td>8.80</td>\n",
       "      <td>ANET</td>\n",
       "      <td>2018-08-02</td>\n",
       "      <td>0.366553</td>\n",
       "      <td>0.653361</td>\n",
       "      <td>0.152110</td>\n",
       "      <td>262.60</td>\n",
       "      <td>5.904975</td>\n",
       "      <td>239.491200</td>\n",
       "      <td>285.708800</td>\n",
       "    </tr>\n",
       "    <tr>\n",
       "      <th>DATA</th>\n",
       "      <td>After Market Close</td>\n",
       "      <td>10.35</td>\n",
       "      <td>-0.11</td>\n",
       "      <td>9.41</td>\n",
       "      <td>DATA</td>\n",
       "      <td>2018-08-02</td>\n",
       "      <td>0.324635</td>\n",
       "      <td>0.573372</td>\n",
       "      <td>0.152728</td>\n",
       "      <td>106.14</td>\n",
       "      <td>2.107790</td>\n",
       "      <td>96.152226</td>\n",
       "      <td>116.127774</td>\n",
       "    </tr>\n",
       "    <tr>\n",
       "      <th>LYB</th>\n",
       "      <td>Before Market Open</td>\n",
       "      <td>4.10</td>\n",
       "      <td>2.92</td>\n",
       "      <td>3.68</td>\n",
       "      <td>LYB</td>\n",
       "      <td>2018-08-03</td>\n",
       "      <td>0.192966</td>\n",
       "      <td>0.315704</td>\n",
       "      <td>0.080055</td>\n",
       "      <td>110.11</td>\n",
       "      <td>1.346729</td>\n",
       "      <td>106.057952</td>\n",
       "      <td>114.162048</td>\n",
       "    </tr>\n",
       "    <tr>\n",
       "      <th>CBOE</th>\n",
       "      <td>Before Market Open</td>\n",
       "      <td>3.71</td>\n",
       "      <td>1.03</td>\n",
       "      <td>3.37</td>\n",
       "      <td>CBOE</td>\n",
       "      <td>2018-08-03</td>\n",
       "      <td>0.262711</td>\n",
       "      <td>0.493414</td>\n",
       "      <td>0.063480</td>\n",
       "      <td>96.36</td>\n",
       "      <td>1.607425</td>\n",
       "      <td>93.112668</td>\n",
       "      <td>99.607332</td>\n",
       "    </tr>\n",
       "  </tbody>\n",
       "</table>\n",
       "</div>"
      ],
      "text/plain": [
       "                 Call Times  Current 7 Day Implied    EPS  \\\n",
       "Tickers                                                     \n",
       "EOG      After Market Close                   3.85   1.23   \n",
       "ANET     After Market Close                   9.52    1.7   \n",
       "DATA     After Market Close                  10.35  -0.11   \n",
       "LYB      Before Market Open                   4.10   2.92   \n",
       "CBOE     Before Market Open                   3.71   1.03   \n",
       "\n",
       "         Implied Move Weekly Tickers Earnings Date  daily_ann  intra_ann  \\\n",
       "Tickers                                                                    \n",
       "EOG                     3.49     EOG    2018-08-02   0.197742   0.301706   \n",
       "ANET                    8.80    ANET    2018-08-02   0.366553   0.653361   \n",
       "DATA                    9.41    DATA    2018-08-02   0.324635   0.573372   \n",
       "LYB                     3.68     LYB    2018-08-03   0.192966   0.315704   \n",
       "CBOE                    3.37    CBOE    2018-08-03   0.262711   0.493414   \n",
       "\n",
       "         ovrnt_ann   close  daily_dollar_vol  Lower Bound  Upper Bound  \n",
       "Tickers                                                                 \n",
       "EOG       0.128101  125.57          1.606149   121.187607   129.952393  \n",
       "ANET      0.152110  262.60          5.904975   239.491200   285.708800  \n",
       "DATA      0.152728  106.14          2.107790    96.152226   116.127774  \n",
       "LYB       0.080055  110.11          1.346729   106.057952   114.162048  \n",
       "CBOE      0.063480   96.36          1.607425    93.112668    99.607332  "
      ]
     },
     "execution_count": 10,
     "metadata": {},
     "output_type": "execute_result"
    }
   ],
   "source": [
    "names[names['close'] >= 80]"
   ]
  },
  {
   "cell_type": "code",
   "execution_count": null,
   "metadata": {},
   "outputs": [],
   "source": [
    "start_time = time.time()\n",
    "\n",
    "focus = ['ABC','RCL','CLX']\n",
    "focus_vol = current_volatility(focus, roll = 22)\n",
    "focus_names = focus_vol.join(names[['Call Times', 'Implied Move Weekly', 'Earnings Date']])\n",
    "\n",
    "focus_names['Lower Bound'] = focus_names['close']*(1 - focus_names['Implied Move Weekly']/100)\n",
    "focus_names['Upper Bound'] = focus_names['close']*(1 + focus_names['Implied Move Weekly']/100)\n",
    "\n",
    "print(\"--- %s seconds ---\" % (time.time() - start_time))\n",
    "\n",
    "focus_names"
   ]
  },
  {
   "cell_type": "code",
   "execution_count": null,
   "metadata": {},
   "outputs": [],
   "source": [
    "start_time = time.time()\n",
    "\n",
    "max_gap = 5\n",
    "dte_thresh = 5\n",
    "money_thresh = 0.1\n",
    "delta_thresh = 0.03\n",
    "minimum_prem = 0.15\n",
    "condors_lst = []\n",
    "putspread_lst = []\n",
    "callspread_lst = []\n",
    "bounds_adj = 0.00\n",
    "\n",
    "for tick in focus_names.index.drop_duplicates().tolist():\n",
    "    condors, put_spreads, call_spreads = earnings_condor(tick, max_gap, dte_thresh, money_thresh)\n",
    "    condors['Ticker'] = tick\n",
    "    put_spreads['Ticker'] = tick\n",
    "    call_spreads['Ticker'] = tick\n",
    "    condors = condors[(abs(condors['Delta']) <= delta_thresh) &\n",
    "                (condors['P Short Strike'] <= focus_names.loc[tick]['Lower Bound']*(1 - bounds_adj)) &\n",
    "                (condors['C Short Strike'] >= focus_names.loc[tick]['Upper Bound']*(1 + bounds_adj)) &\n",
    "                (condors['Premium'] >= minimum_prem)].sort_values('RiskRewardRatio', ascending = False)\n",
    "    \n",
    "    put_spreads = put_spreads[(put_spreads['Short Put Strike'] <= focus_names.loc[tick]['Lower Bound']) &\n",
    "                              (put_spreads['put Spread Premium'] >= minimum_prem)].sort_values('RiskRewardRatio', ascending = False)\n",
    "    \n",
    "    call_spreads = call_spreads[(call_spreads['Short call Strike'] >= focus_names.loc[tick]['Upper Bound']) &\n",
    "                                (call_spreads['call Spread Premium'] >= minimum_prem)].sort_values('RiskRewardRatio', ascending = False)\n",
    "    \n",
    "    condors_lst.append(condors)\n",
    "    putspread_lst.append(put_spreads)\n",
    "    callspread_lst.append(call_spreads)\n",
    "\n",
    "earnings_pspreads = pd.concat(putspread_lst).sort_values('RiskRewardRatio', ascending = False)\n",
    "earnings_cspreads = pd.concat(callspread_lst).sort_values('RiskRewardRatio', ascending = False)\n",
    "earnings_condors = pd.concat(condors_lst).sort_values('RiskRewardRatio', ascending = False)\n",
    "\n",
    "print(\"--- %s seconds ---\" % (time.time() - start_time))"
   ]
  },
  {
   "cell_type": "code",
   "execution_count": null,
   "metadata": {},
   "outputs": [],
   "source": [
    "prem_thresh = 0.3\n",
    "rr_thresh = 0.3\n",
    "\n",
    "filtered_condors = earnings_condors[(earnings_condors['Premium'] >= prem_thresh) &\n",
    "                                     (earnings_condors['RiskRewardRatio'] >= rr_thresh)]\n",
    "\n",
    "filtered_pspreads = earnings_pspreads[(earnings_pspreads['put Spread Premium'] >= prem_thresh) &\n",
    "                                     (earnings_pspreads['RiskRewardRatio'] >= rr_thresh)]\n",
    "\n",
    "filtered_cspreads = earnings_cspreads[(earnings_cspreads['call Spread Premium'] >= prem_thresh) &\n",
    "                                     (earnings_cspreads['RiskRewardRatio'] >= rr_thresh)]\n",
    "\n",
    "focus_names"
   ]
  },
  {
   "cell_type": "code",
   "execution_count": null,
   "metadata": {},
   "outputs": [],
   "source": [
    "filtered_condors"
   ]
  },
  {
   "cell_type": "code",
   "execution_count": null,
   "metadata": {},
   "outputs": [],
   "source": [
    "earnings_condors[earnings_condors['Ticker'] == 'ABC']"
   ]
  },
  {
   "cell_type": "code",
   "execution_count": null,
   "metadata": {
    "collapsed": true
   },
   "outputs": [],
   "source": []
  },
  {
   "cell_type": "code",
   "execution_count": null,
   "metadata": {
    "collapsed": true
   },
   "outputs": [],
   "source": [
    "# "
   ]
  },
  {
   "cell_type": "code",
   "execution_count": null,
   "metadata": {
    "collapsed": true
   },
   "outputs": [],
   "source": []
  },
  {
   "cell_type": "code",
   "execution_count": null,
   "metadata": {
    "collapsed": true
   },
   "outputs": [],
   "source": []
  }
 ],
 "metadata": {
  "kernelspec": {
   "display_name": "Python 3",
   "language": "python",
   "name": "python3"
  },
  "language_info": {
   "codemirror_mode": {
    "name": "ipython",
    "version": 3
   },
   "file_extension": ".py",
   "mimetype": "text/x-python",
   "name": "python",
   "nbconvert_exporter": "python",
   "pygments_lexer": "ipython3",
   "version": "3.6.1"
  }
 },
 "nbformat": 4,
 "nbformat_minor": 2
}
