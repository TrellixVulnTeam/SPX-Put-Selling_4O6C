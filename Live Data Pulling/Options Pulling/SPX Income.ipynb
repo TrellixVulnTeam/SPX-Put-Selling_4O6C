{
 "cells": [
  {
   "cell_type": "code",
   "execution_count": 4,
   "metadata": {
    "collapsed": true
   },
   "outputs": [],
   "source": [
    "import pandas as pd\n",
    "import numpy as np\n",
    "import datetime as dt\n",
    "import pandas.stats.moments as st\n",
    "import matplotlib.pyplot as plt\n",
    "from pandas_datareader.data import Options\n",
    "import py_vollib\n",
    "from py_vollib.black_scholes_merton.implied_volatility import *\n",
    "from py_vollib.black_scholes_merton.greeks.analytical import *\n",
    "import sched\n",
    "import time\n",
    "from collections import OrderedDict\n",
    "%matplotlib inline\n",
    "import pandas_datareader.data as web\n",
    "from helpers import *"
   ]
  },
  {
   "cell_type": "code",
   "execution_count": 5,
   "metadata": {},
   "outputs": [
    {
     "name": "stdout",
     "output_type": "stream",
     "text": [
      "--- 46.79334235191345 seconds ---\n"
     ]
    }
   ],
   "source": [
    "start_time = time.time()\n",
    "\n",
    "dte_thresh = 2\n",
    "money_thresh = 0.02\n",
    "tick = '^SPX'\n",
    "deltas_thresh = [-0.5,-0.01]\n",
    "\n",
    "spx_options = all_options(tick)\n",
    "\n",
    "spx_filtered_puts = spx_options[(spx_options['DTE'] <= dte_thresh) &\n",
    "                                (spx_options['Type'] == 'put') &\n",
    "                                (spx_options['Delta'] >= deltas_thresh[0]) &\n",
    "                                (spx_options['Delta'] <= deltas_thresh[1])].reset_index()[spx_options.columns].sort_values('Strike',\n",
    "                                                                                                                ascending = False)\n",
    "\n",
    "spreads_lst = []\n",
    "for idx, row in spx_filtered_puts.iterrows():\n",
    "    if idx == 0:\n",
    "        break\n",
    "    \n",
    "    temp_chains = spx_filtered_puts[spx_filtered_puts['Strike'] < row.Strike][['Strike','Bid','Ask',\n",
    "                                                                               'Delta','Gamma','Theta','Vega']]\n",
    "    temp_chains['DTE'] = row.DTE\n",
    "    temp_chains['Short Strike'] = row.Strike\n",
    "    temp_chains['Short Bid'] = row.Bid\n",
    "    temp_chains['Short Ask'] = row.Ask\n",
    "    \n",
    "    temp_chains['Premium'] = (temp_chains['Short Bid'] - temp_chains['Ask'])*100\n",
    "    temp_chains['Total Risk'] = (temp_chains['Strike'] - temp_chains['Short Strike'])*100 + temp_chains['Premium']\n",
    "    temp_chains['Delta'] = temp_chains['Delta'] - row.Delta\n",
    "    temp_chains['Gamma'] = temp_chains['Gamma'] - row.Gamma\n",
    "    temp_chains['Theta'] = temp_chains['Theta'] - row.Theta\n",
    "    temp_chains['Vega'] = temp_chains['Vega'] - row.Vega\n",
    "    \n",
    "    temp_chains = temp_chains[['DTE','Short Strike','Strike','Premium','Delta','Gamma','Theta','Vega','Total Risk']]\n",
    "    spreads_lst.append(temp_chains)\n",
    "    \n",
    "pspreads_df = pd.concat(spreads_lst, axis = 0).reset_index()[temp_chains.columns]\n",
    "pspreads_df['RRRatio'] = pspreads_df.Premium/(-pspreads_df['Total Risk'])\n",
    "\n",
    "pspreads_df = pspreads_df.sort_values('RRRatio',ascending = False)\n",
    "\n",
    "print(\"--- %s seconds ---\" % (time.time() - start_time))\n",
    "\n"
   ]
  },
  {
   "cell_type": "code",
   "execution_count": null,
   "metadata": {},
   "outputs": [],
   "source": []
  },
  {
   "cell_type": "code",
   "execution_count": null,
   "metadata": {},
   "outputs": [],
   "source": []
  },
  {
   "cell_type": "code",
   "execution_count": null,
   "metadata": {},
   "outputs": [],
   "source": []
  },
  {
   "cell_type": "code",
   "execution_count": null,
   "metadata": {},
   "outputs": [],
   "source": []
  },
  {
   "cell_type": "code",
   "execution_count": null,
   "metadata": {},
   "outputs": [],
   "source": []
  },
  {
   "cell_type": "code",
   "execution_count": null,
   "metadata": {},
   "outputs": [],
   "source": []
  },
  {
   "cell_type": "code",
   "execution_count": null,
   "metadata": {},
   "outputs": [],
   "source": []
  },
  {
   "cell_type": "code",
   "execution_count": null,
   "metadata": {},
   "outputs": [],
   "source": []
  },
  {
   "cell_type": "code",
   "execution_count": null,
   "metadata": {},
   "outputs": [],
   "source": []
  },
  {
   "cell_type": "code",
   "execution_count": null,
   "metadata": {
    "collapsed": true
   },
   "outputs": [],
   "source": []
  }
 ],
 "metadata": {
  "kernelspec": {
   "display_name": "Python 3",
   "language": "python",
   "name": "python3"
  },
  "language_info": {
   "codemirror_mode": {
    "name": "ipython",
    "version": 3
   },
   "file_extension": ".py",
   "mimetype": "text/x-python",
   "name": "python",
   "nbconvert_exporter": "python",
   "pygments_lexer": "ipython3",
   "version": "3.6.1"
  }
 },
 "nbformat": 4,
 "nbformat_minor": 2
}
